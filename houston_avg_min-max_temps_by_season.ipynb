{
 "cells": [
  {
   "cell_type": "code",
   "execution_count": 456,
   "metadata": {},
   "outputs": [],
   "source": [
    "import psycopg2 # database connection\n",
    "import pandas as pd # manipulate dataframes\n",
    "import matplotlib.pyplot as plt # create plots\n",
    "from scipy import stats # math\n",
    "from IPython.display import display # display the final plot\n",
    "import config # fstore/access database credentials"
   ]
  },
  {
   "cell_type": "code",
   "execution_count": 433,
   "metadata": {},
   "outputs": [],
   "source": [
    "# define the database connection, and map credentials to the config.py file\n",
    "conn = psycopg2.connect(host=config.host, port=5432, dbname=config.db_name, user=config.db_user, password=config.db_pw)"
   ]
  },
  {
   "cell_type": "code",
   "execution_count": 434,
   "metadata": {},
   "outputs": [],
   "source": [
    "# creates cursor class to execute PostgreSQL command\n",
    "cur = conn.cursor()"
   ]
  },
  {
   "cell_type": "code",
   "execution_count": 435,
   "metadata": {},
   "outputs": [],
   "source": [
    "# Get average temp for each summer month (June, July, & August)\n",
    "# Set variable for SQL query\n",
    "sql_avg_summer_temps = \"\"\"\n",
    "        SELECT \n",
    "            EXTRACT(YEAR FROM datetime) AS year, \n",
    "\t    CASE EXTRACT(MONTH FROM datetime)\n",
    "            WHEN 6 THEN 'June'\n",
    "            WHEN 7 THEN 'July'\n",
    "\t\t    WHEN 8 THEN 'August'\n",
    "            END AS month,\n",
    "\t    AVG(temp) AS avg_summer_temp\n",
    "        FROM\n",
    "\t        houston_historical\n",
    "        WHERE\n",
    "\t        EXTRACT(MONTH FROM datetime) IN (6, 7, 8)\n",
    "        GROUP BY\n",
    "\t        EXTRACT(YEAR FROM datetime),\n",
    "\t        EXTRACT(MONTH FROM datetime)\n",
    "        ORDER BY\n",
    "\t        year ASC\n",
    "      \"\"\""
   ]
  },
  {
   "cell_type": "code",
   "execution_count": 436,
   "metadata": {},
   "outputs": [],
   "source": [
    "# Get average temp for each winter month (December, January, & February)\n",
    "# Set variable for SQL query\n",
    "sql_avg_winter_temps = \"\"\"\n",
    "      SELECT \n",
    "            EXTRACT(YEAR FROM datetime) AS year, \n",
    "\t      CASE EXTRACT(MONTH FROM datetime)\n",
    "                  WHEN 12 THEN 'December'\n",
    "                  WHEN 1 THEN 'January'\n",
    "\t\t      WHEN 2 THEN 'February'\n",
    "                  END AS month,\n",
    "\t      AVG(temp) AS avg_winter_temp\n",
    "      FROM\n",
    "            houston_historical\n",
    "      WHERE\n",
    "            EXTRACT(MONTH FROM datetime) IN (12, 1, 2)\n",
    "      GROUP BY\n",
    "            EXTRACT(YEAR FROM datetime),\n",
    "            EXTRACT(MONTH FROM datetime)\n",
    "      ORDER BY\n",
    "            year ASC\n",
    "      \"\"\""
   ]
  },
  {
   "cell_type": "code",
   "execution_count": 437,
   "metadata": {},
   "outputs": [],
   "source": [
    "# Create empty dictionary\n",
    "sql = {}"
   ]
  },
  {
   "cell_type": "code",
   "execution_count": 438,
   "metadata": {},
   "outputs": [],
   "source": [
    "# Define key-value pairs for SQL queries\n",
    "sql['sql_avg_summer_temps'] = sql_avg_summer_temps\n",
    "sql['sql_avg_winter_temps'] = sql_avg_winter_temps"
   ]
  },
  {
   "cell_type": "code",
   "execution_count": 439,
   "metadata": {},
   "outputs": [],
   "source": [
    "# Function to query the database, return results, and put in dataframes\n",
    "def create_seasonal_df():\n",
    "    global df_sql_avg_summer_temps #set as gloal var\n",
    "    global df_sql_avg_winter_temps # set as global var\n",
    "    for key, value in sql.items():\n",
    "        cur.execute(value)\n",
    "        query_results = cur.fetchall()\n",
    "        cols = [desc[0] for desc in cur.description]\n",
    "        df_name = f\"df_{key}_temps\"\n",
    "        globals()[df_name] = pd.DataFrame(data=query_results, columns=cols)\n",
    "        \n",
    "create_seasonal_df()"
   ]
  },
  {
   "cell_type": "code",
   "execution_count": 440,
   "metadata": {},
   "outputs": [],
   "source": [
    "# Close cursor class and db connection\n",
    "cur.close()\n",
    "conn.close()"
   ]
  },
  {
   "cell_type": "code",
   "execution_count": 441,
   "metadata": {},
   "outputs": [],
   "source": [
    "# set vars\n",
    "df_sql_avg_summer_temps = df_sql_avg_summer_temps\n",
    "df_sql_avg_winter_temps = df_sql_avg_winter_temps"
   ]
  },
  {
   "cell_type": "code",
   "execution_count": 442,
   "metadata": {},
   "outputs": [],
   "source": [
    "# Function to convert year and temp columns to numeric (float) data type from object data type\n",
    "def convert_columns_to_numeric(dataframes, column_names):\n",
    "    for df in dataframes:\n",
    "        for column in column_names:\n",
    "            if column in df.columns:\n",
    "                df[column] = pd.to_numeric(df[column])\n",
    "            else:\n",
    "                print(f\"Column '{column}' not found in dataframe.\")"
   ]
  },
  {
   "cell_type": "code",
   "execution_count": 443,
   "metadata": {},
   "outputs": [
    {
     "name": "stdout",
     "output_type": "stream",
     "text": [
      "Column 'avg_winter_temp' not found in dataframe.\n",
      "Column 'avg_summer_temp' not found in dataframe.\n"
     ]
    }
   ],
   "source": [
    "dataframes = [df_sql_avg_summer_temps, df_sql_avg_winter_temps] # list of dataframes\n",
    "columns = ['avg_summer_temp', 'avg_winter_temp', 'year'] # list of columns\n",
    "convert_columns_to_numeric(dataframes, columns) # call function and pass through vars"
   ]
  },
  {
   "cell_type": "code",
   "execution_count": 444,
   "metadata": {},
   "outputs": [
    {
     "name": "stdout",
     "output_type": "stream",
     "text": [
      "       year   month  avg_summer_temp\n",
      "0    1973.0    June        79.450000\n",
      "1    1973.0    July        82.687097\n",
      "2    1973.0  August        79.577419\n",
      "3    1974.0    June        79.963333\n",
      "4    1974.0    July        81.651613\n",
      "..      ...     ...              ...\n",
      "145  2021.0    July        82.612903\n",
      "146  2021.0  August        84.141935\n",
      "147  2022.0    June        84.510000\n",
      "148  2022.0    July        85.619355\n",
      "149  2022.0  August        83.135484\n",
      "\n",
      "[150 rows x 3 columns]\n",
      "       year     month  avg_winter_temp\n",
      "0    1973.0   January        48.606452\n",
      "1    1973.0  February        51.682143\n",
      "2    1973.0  December        54.558065\n",
      "3    1974.0   January        56.093548\n",
      "4    1974.0  February        57.500000\n",
      "..      ...       ...              ...\n",
      "147  2022.0   January        53.951613\n",
      "148  2022.0  February        52.357143\n",
      "149  2022.0  December        58.096774\n",
      "150  2023.0   January        60.064516\n",
      "151  2023.0  February        61.132143\n",
      "\n",
      "[152 rows x 3 columns]\n"
     ]
    }
   ],
   "source": [
    "# print dataframes for viewing\n",
    "print(df_sql_avg_summer_temps)\n",
    "print(df_sql_avg_winter_temps)"
   ]
  },
  {
   "cell_type": "code",
   "execution_count": 445,
   "metadata": {},
   "outputs": [
    {
     "data": {
      "image/png": "[encoded data removed]",
      "text/plain": [
       "<Figure size 432x288 with 1 Axes>"
      ]
     },
     "metadata": {
      "needs_background": "light"
     },
     "output_type": "display_data"
    }
   ],
   "source": [
    "# define figure and axes objects \n",
    "fig, ax = plt.subplots()"
   ]
  },
  {
   "cell_type": "code",
   "execution_count": 446,
   "metadata": {},
   "outputs": [
    {
     "data": {
      "text/plain": [
       "<matplotlib.collections.PathCollection at 0x2379ec08940>"
      ]
     },
     "execution_count": 446,
     "metadata": {},
     "output_type": "execute_result"
    }
   ],
   "source": [
    "# define scatter plot and attributes\n",
    "ax.scatter(df_sql_avg_summer_temps['year'], df_sql_avg_summer_temps['avg_summer_temp'], marker = '.', label='Annual Average Summer Temp', color='#f68806')\n",
    "ax.scatter(df_sql_avg_winter_temps['year'], df_sql_avg_winter_temps['avg_winter_temp'], marker = '.', label='Annual Average Winter Temp', color = '#3378b6')"
   ]
  },
  {
   "cell_type": "code",
   "execution_count": 447,
   "metadata": {},
   "outputs": [],
   "source": [
    "# create trend line (line of best fit) for avg summer temps\n",
    "slope, intercept, r_value, p_value, std_err = stats.linregress(df_sql_avg_summer_temps['year'], df_sql_avg_summer_temps['avg_summer_temp'])\n",
    "trend_line = intercept + slope * df_sql_avg_summer_temps['year']"
   ]
  },
  {
   "cell_type": "code",
   "execution_count": 448,
   "metadata": {},
   "outputs": [
    {
     "data": {
      "text/plain": [
       "[<matplotlib.lines.Line2D at 0x2379ec022b0>]"
      ]
     },
     "execution_count": 448,
     "metadata": {},
     "output_type": "execute_result"
    }
   ],
   "source": [
    "# plot summer temps trend line\n",
    "ax.plot(df_sql_avg_summer_temps['year'], trend_line, color='r')"
   ]
  },
  {
   "cell_type": "code",
   "execution_count": 449,
   "metadata": {},
   "outputs": [],
   "source": [
    "# create trend line (line of best fit) for avg winter temps\n",
    "slope, intercept, r_value, p_value, std_err = stats.linregress(df_sql_avg_winter_temps['year'], df_sql_avg_winter_temps['avg_winter_temp'])\n",
    "trend_line = intercept + slope * df_sql_avg_winter_temps['year']"
   ]
  },
  {
   "cell_type": "code",
   "execution_count": 450,
   "metadata": {},
   "outputs": [
    {
     "data": {
      "text/plain": [
       "[<matplotlib.lines.Line2D at 0x2379ec02880>]"
      ]
     },
     "execution_count": 450,
     "metadata": {},
     "output_type": "execute_result"
    }
   ],
   "source": [
    "# plot winter temps trend line\n",
    "ax.plot(df_sql_avg_winter_temps['year'], trend_line, color='r')"
   ]
  },
  {
   "cell_type": "code",
   "execution_count": 451,
   "metadata": {},
   "outputs": [
    {
     "data": {
      "text/plain": [
       "Text(0.5, 1.0, 'Average Seasonal Temperatures - Houston, TX 1973-2023')"
      ]
     },
     "execution_count": 451,
     "metadata": {},
     "output_type": "execute_result"
    }
   ],
   "source": [
    "# Set labels\n",
    "ax.set_xlabel('Year')\n",
    "ax.set_ylabel('Average Seasonal Temperature')\n",
    "ax.set_title('Average Seasonal Temperatures - Houston, TX 1973-2023')"
   ]
  },
  {
   "cell_type": "code",
   "execution_count": 452,
   "metadata": {},
   "outputs": [
    {
     "data": {
      "text/plain": [
       "<matplotlib.legend.Legend at 0x2379ea9d940>"
      ]
     },
     "execution_count": 452,
     "metadata": {},
     "output_type": "execute_result"
    }
   ],
   "source": [
    "# enable legend\n",
    "ax.legend()"
   ]
  },
  {
   "cell_type": "code",
   "execution_count": 453,
   "metadata": {},
   "outputs": [
    {
     "data": {
      "image/png": "[encoded data removed]",
      "text/plain": [
       "<Figure size 432x288 with 1 Axes>"
      ]
     },
     "metadata": {},
     "output_type": "display_data"
    }
   ],
   "source": [
    "# show final plot\n",
    "display(fig)"
   ]
  },
  {
   "cell_type": "code",
   "execution_count": 458,
   "metadata": {},
   "outputs": [
    {
     "name": "stdout",
     "output_type": "stream",
     "text": [
      "LinregressResult(slope=0.07016782454917449, intercept=-57.56097075561402, rvalue=0.5557496627007515, pvalue=1.5593136934506745e-13, stderr=0.00862803081362264, intercept_stderr=17.234941303395868)\n"
     ]
    }
   ],
   "source": [
    "# Linear regression for avg_summer_temps dataframe\n",
    "summer_results = stats.linregress(df_sql_avg_summer_temps['year'], df_sql_avg_summer_temps['avg_summer_temp'])\n",
    "print(summer_results)"
   ]
  },
  {
   "cell_type": "code",
   "execution_count": 459,
   "metadata": {},
   "outputs": [
    {
     "name": "stdout",
     "output_type": "stream",
     "text": [
      "LinregressResult(slope=0.09948978326267409, intercept=-143.38931966187653, rvalue=0.3542878660652671, pvalue=7.533873019149399e-06, stderr=0.021441321268262755, intercept_stderr=42.83738144790537)\n"
     ]
    }
   ],
   "source": [
    "# Linear regression for avg_winter_temps dataframe\n",
    "winter_results = stats.linregress(df_sql_avg_winter_temps['year'], df_sql_avg_winter_temps['avg_winter_temp'])\n",
    "print(winter_results)"
   ]
  },
  {
   "cell_type": "code",
   "execution_count": null,
   "metadata": {},
   "outputs": [],
   "source": []
  }
 ],
 "metadata": {
  "kernelspec": {
   "display_name": "Python 3",
   "language": "python",
   "name": "python3"
  },
  "language_info": {
   "codemirror_mode": {
    "name": "ipython",
    "version": 3
   },
   "file_extension": ".py",
   "mimetype": "text/x-python",
   "name": "python",
   "nbconvert_exporter": "python",
   "pygments_lexer": "ipython3",
   "version": "3.9.5"
  },
  "orig_nbformat": 4
 },
 "nbformat": 4,
 "nbformat_minor": 2
}
