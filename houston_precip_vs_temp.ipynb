{
 "cells": [
  {
   "cell_type": "code",
   "execution_count": 222,
   "metadata": {},
   "outputs": [],
   "source": [
    "import psycopg2 # database connection\n",
    "import pandas as pd # manipulate dataframes\n",
    "import matplotlib.pyplot as plt # create plots\n",
    "from scipy import stats # math\n",
    "from IPython.display import display # display the final plot\n",
    "from scipy.optimize import curve_fit\n",
    "import config # fstore/access database credentials"
   ]
  },
  {
   "cell_type": "code",
   "execution_count": 223,
   "metadata": {},
   "outputs": [],
   "source": [
    "# define the database connection, and map credentials to the config.py file\n",
    "conn = psycopg2.connect(host=config.host, port=5432, dbname=config.db_name, user=config.db_user, password=config.db_pw)"
   ]
  },
  {
   "cell_type": "code",
   "execution_count": 224,
   "metadata": {},
   "outputs": [],
   "source": [
    "# creates cursor class to execute PostgreSQL command\n",
    "cur = conn.cursor()"
   ]
  },
  {
   "cell_type": "code",
   "execution_count": 225,
   "metadata": {},
   "outputs": [],
   "source": [
    "# Get year, month, and average precip/temp for each month\n",
    "# Set variable for SQL query\n",
    "sql = \"\"\"\n",
    "SELECT\n",
    "\tEXTRACT(YEAR FROM datetime) AS year, \n",
    "\tCASE EXTRACT(MONTH FROM datetime)\n",
    "\t\tWHEN 1 THEN 'January'\n",
    "\t\tWHEN 2 THEN 'February'\n",
    "\t\tWHEN 3 THEN 'March'\n",
    "\t\tWHEN 4 THEN 'April'\n",
    "\t\tWHEN 5 THEN 'May'\n",
    "\t\tWHEN 6 THEN 'June'\n",
    "\t\tWHEN 7 THEN 'July'\n",
    "\t\tWHEN 8 THEN 'August'\n",
    "\t\tWHEN 9 THEN 'September'\n",
    "\t\tWHEN 10 THEN 'October'\n",
    "\t\tWHEN 11 THEN 'November'\n",
    "\t\tWHEN 12 THEN 'December'\n",
    "\t\tEND AS month,\n",
    "\tROUND(SUM(precip),2) AS total_monthly_precip,\n",
    "\tROUND(AVG(temp),2) AS avg_monthly_temp\n",
    "FROM\n",
    "\thouston_historical\n",
    "GROUP BY\n",
    "\tEXTRACT(YEAR FROM datetime),\n",
    "\tEXTRACT(MONTH FROM datetime)\n",
    "ORDER BY\n",
    "\tyear ASC\n",
    "      \"\"\""
   ]
  },
  {
   "cell_type": "code",
   "execution_count": 226,
   "metadata": {},
   "outputs": [],
   "source": [
    "cur.execute(sql)"
   ]
  },
  {
   "cell_type": "code",
   "execution_count": 227,
   "metadata": {},
   "outputs": [],
   "source": [
    "query_results = cur.fetchall()"
   ]
  },
  {
   "cell_type": "code",
   "execution_count": 228,
   "metadata": {},
   "outputs": [],
   "source": [
    "cur.close()\n",
    "conn.close()"
   ]
  },
  {
   "cell_type": "code",
   "execution_count": 229,
   "metadata": {},
   "outputs": [],
   "source": [
    "cols = []\n",
    "for elt in cur.description:\n",
    "    cols.append(elt[0])"
   ]
  },
  {
   "cell_type": "code",
   "execution_count": 230,
   "metadata": {},
   "outputs": [],
   "source": [
    "df = pd.DataFrame(data=query_results,columns=cols)"
   ]
  },
  {
   "cell_type": "code",
   "execution_count": 231,
   "metadata": {},
   "outputs": [
    {
     "name": "stdout",
     "output_type": "stream",
     "text": [
      "     year     month total_monthly_precip avg_monthly_temp\n",
      "0    1973   January                 4.96            48.61\n",
      "1    1973  February                 3.40            51.68\n",
      "2    1973     March                 3.68            64.86\n",
      "3    1973     April                 7.13            65.32\n",
      "4    1973       May                 4.14            73.68\n",
      "..    ...       ...                  ...              ...\n",
      "599  2022  December                 1.57            58.10\n",
      "600  2023   January                 1.77            60.06\n",
      "601  2023  February                 0.38            61.13\n",
      "602  2023     March                 0.60            67.41\n",
      "603  2023     April                 2.11            69.40\n",
      "\n",
      "[604 rows x 4 columns]\n"
     ]
    }
   ],
   "source": [
    "print(df)"
   ]
  },
  {
   "cell_type": "code",
   "execution_count": 232,
   "metadata": {},
   "outputs": [],
   "source": [
    "# Function to convert year and temp columns to numeric (float) data type from object data type\n",
    "def convert_columns_to_numeric(dataframes, column_names):\n",
    "    for df in dataframes:\n",
    "        for column in column_names:\n",
    "            if column in df.columns:\n",
    "                df[column] = pd.to_numeric(df[column])\n",
    "            else:\n",
    "                print(f\"Column '{column}' not found in dataframe.\")"
   ]
  },
  {
   "cell_type": "code",
   "execution_count": 233,
   "metadata": {},
   "outputs": [],
   "source": [
    "dataframes = [df] # list of dataframes\n",
    "columns = ['year', 'total_monthly_precip', 'avg_monthly_temp'] # list of columns\n",
    "convert_columns_to_numeric(dataframes, columns) # call function and pass through vars"
   ]
  },
  {
   "cell_type": "code",
   "execution_count": 234,
   "metadata": {},
   "outputs": [
    {
     "name": "stdout",
     "output_type": "stream",
     "text": [
      "       year     month  total_monthly_precip  avg_monthly_temp\n",
      "0    1973.0   January                  4.96             48.61\n",
      "1    1973.0  February                  3.40             51.68\n",
      "2    1973.0     March                  3.68             64.86\n",
      "3    1973.0     April                  7.13             65.32\n",
      "4    1973.0       May                  4.14             73.68\n",
      "..      ...       ...                   ...               ...\n",
      "599  2022.0  December                  1.57             58.10\n",
      "600  2023.0   January                  1.77             60.06\n",
      "601  2023.0  February                  0.38             61.13\n",
      "602  2023.0     March                  0.60             67.41\n",
      "603  2023.0     April                  2.11             69.40\n",
      "\n",
      "[604 rows x 4 columns]\n"
     ]
    }
   ],
   "source": [
    "print(df)"
   ]
  },
  {
   "cell_type": "code",
   "execution_count": 235,
   "metadata": {},
   "outputs": [
    {
     "data": {
      "text/plain": [
       "year                    float64\n",
       "month                    object\n",
       "total_monthly_precip    float64\n",
       "avg_monthly_temp        float64\n",
       "dtype: object"
      ]
     },
     "execution_count": 235,
     "metadata": {},
     "output_type": "execute_result"
    }
   ],
   "source": [
    "df.dtypes"
   ]
  },
  {
   "cell_type": "code",
   "execution_count": 236,
   "metadata": {},
   "outputs": [
    {
     "data": {
      "image/png": "[encoded data removed]",
      "text/plain": [
       "<Figure size 432x288 with 1 Axes>"
      ]
     },
     "metadata": {
      "needs_background": "light"
     },
     "output_type": "display_data"
    }
   ],
   "source": [
    "# define figure and axes objects \n",
    "fig, ax = plt.subplots()"
   ]
  },
  {
   "cell_type": "code",
   "execution_count": 237,
   "metadata": {},
   "outputs": [
    {
     "data": {
      "text/plain": [
       "<matplotlib.collections.PathCollection at 0x1a1aaaed190>"
      ]
     },
     "execution_count": 237,
     "metadata": {},
     "output_type": "execute_result"
    }
   ],
   "source": [
    "# define scatter plot and attributes\n",
    "ax.scatter(df['avg_monthly_temp'], df['total_monthly_precip'], marker = '.', label='Temp vs. Rainfall', color='#3378b6')"
   ]
  },
  {
   "cell_type": "code",
   "execution_count": 238,
   "metadata": {},
   "outputs": [
    {
     "data": {
      "text/plain": [
       "[<matplotlib.lines.Line2D at 0x1a1aaaf9eb0>]"
      ]
     },
     "execution_count": 238,
     "metadata": {},
     "output_type": "execute_result"
    }
   ],
   "source": [
    "# Non-linear curve fitting\n",
    "def func(x, a, b, c):\n",
    "    return a * x**2 + b * x + c\n",
    "\n",
    "popt, pcov = curve_fit(func, df['avg_monthly_temp'], df['total_monthly_precip'])\n",
    "\n",
    "# Generate curve line\n",
    "curve_line = func(df['avg_monthly_temp'], *popt)\n",
    "\n",
    "# Plot the non-linear curve line\n",
    "ax.plot(df['avg_monthly_temp'], curve_line, color='r')"
   ]
  },
  {
   "cell_type": "code",
   "execution_count": null,
   "metadata": {},
   "outputs": [],
   "source": [
    "# create trend line (line of best fit) for avg summer temps\n",
    "slope, intercept, r_value, p_value, std_err = stats.linregress(df['avg_monthly_temp'], df['total_monthly_precip'])\n",
    "trend_line = intercept + slope * df['avg_monthly_temp']"
   ]
  },
  {
   "cell_type": "code",
   "execution_count": 239,
   "metadata": {},
   "outputs": [
    {
     "data": {
      "text/plain": [
       "[<matplotlib.lines.Line2D at 0x1a1aaaf9550>]"
      ]
     },
     "execution_count": 239,
     "metadata": {},
     "output_type": "execute_result"
    }
   ],
   "source": [
    "# plot summer temps trend line\n",
    "ax.plot(df['avg_monthly_temp'], trend_line, color='r')"
   ]
  },
  {
   "cell_type": "code",
   "execution_count": 240,
   "metadata": {},
   "outputs": [
    {
     "data": {
      "text/plain": [
       "Text(0.5, 1.0, 'Temperature vs. Precipitation - Houston, TX 1973-2023')"
      ]
     },
     "execution_count": 240,
     "metadata": {},
     "output_type": "execute_result"
    }
   ],
   "source": [
    "# Set labels\n",
    "ax.set_xlabel('Average Temperature (Fahrenheit)')\n",
    "ax.set_ylabel('Total Precipitation (Inches)')\n",
    "ax.set_title('Temperature vs. Precipitation - Houston, TX 1973-2023')"
   ]
  },
  {
   "cell_type": "code",
   "execution_count": 241,
   "metadata": {},
   "outputs": [
    {
     "data": {
      "text/plain": [
       "<matplotlib.legend.Legend at 0x1a1aaaf9040>"
      ]
     },
     "execution_count": 241,
     "metadata": {},
     "output_type": "execute_result"
    }
   ],
   "source": [
    "# enable legend\n",
    "ax.legend()"
   ]
  },
  {
   "cell_type": "code",
   "execution_count": 242,
   "metadata": {},
   "outputs": [
    {
     "data": {
      "image/png": "[encoded data removed]",
      "text/plain": [
       "<Figure size 432x288 with 1 Axes>"
      ]
     },
     "metadata": {},
     "output_type": "display_data"
    }
   ],
   "source": [
    "# show final plot\n",
    "display(fig)"
   ]
  },
  {
   "cell_type": "code",
   "execution_count": 243,
   "metadata": {},
   "outputs": [
    {
     "name": "stdout",
     "output_type": "stream",
     "text": [
      "LinregressResult(slope=0.03019057154183148, intercept=1.7181799110327525, rvalue=0.10216126026950846, pvalue=0.012000425471475843, stderr=0.011981428172120225, intercept_stderr=0.8442631975169884)\n"
     ]
    }
   ],
   "source": [
    "# Linear regression for avg_summer_temps dataframe\n",
    "results = stats.linregress(df['avg_monthly_temp'], df['total_monthly_precip'])\n",
    "print(results)"
   ]
  },
  {
   "cell_type": "code",
   "execution_count": 247,
   "metadata": {},
   "outputs": [],
   "source": [
    "results2 = stats.normaltest(df['avg_monthly_temp'])"
   ]
  },
  {
   "cell_type": "code",
   "execution_count": 248,
   "metadata": {},
   "outputs": [
    {
     "name": "stdout",
     "output_type": "stream",
     "text": [
      "NormaltestResult(statistic=407.86575123651613, pvalue=2.7106749372323235e-89)\n"
     ]
    }
   ],
   "source": [
    "print(results2)"
   ]
  },
  {
   "cell_type": "code",
   "execution_count": null,
   "metadata": {},
   "outputs": [],
   "source": []
  }
 ],
 "metadata": {
  "kernelspec": {
   "display_name": "Python 3",
   "language": "python",
   "name": "python3"
  },
  "language_info": {
   "codemirror_mode": {
    "name": "ipython",
    "version": 3
   },
   "file_extension": ".py",
   "mimetype": "text/x-python",
   "name": "python",
   "nbconvert_exporter": "python",
   "pygments_lexer": "ipython3",
   "version": "3.9.5"
  },
  "orig_nbformat": 4
 },
 "nbformat": 4,
 "nbformat_minor": 2
}
